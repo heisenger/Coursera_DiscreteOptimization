{
 "cells": [
  {
   "cell_type": "code",
   "execution_count": 2,
   "id": "edc4fb62",
   "metadata": {},
   "outputs": [],
   "source": [
    "from collections import namedtuple\n",
    "Item = namedtuple(\"Item\", ['index', 'value', 'weight'])"
   ]
  },
  {
   "cell_type": "code",
   "execution_count": 494,
   "id": "dc1de3ad",
   "metadata": {},
   "outputs": [],
   "source": [
    "def read_data(input_data):\n",
    "    # Modify this code to run your optimization algorithm\n",
    "\n",
    "    # parse the input\n",
    "    lines = input_data.split('\\n')\n",
    "\n",
    "    firstLine = lines[0].split()\n",
    "    item_count = int(firstLine[0])\n",
    "    capacity = int(firstLine[1])\n",
    "    \n",
    "    items = []\n",
    "\n",
    "    for i in range(1, item_count+1):\n",
    "        line = lines[i]\n",
    "        parts = line.split()\n",
    "        items.append(Item(i-1, int(parts[0]), int(parts[1])))\n",
    "        \n",
    "    return items, capacity, item_count"
   ]
  },
  {
   "cell_type": "code",
   "execution_count": 576,
   "id": "fb009ef9",
   "metadata": {},
   "outputs": [],
   "source": [
    "with open('data/ks_4_0', 'r') as input_data_file:\n",
    "            input_data = input_data_file.read()        "
   ]
  },
  {
   "cell_type": "code",
   "execution_count": 577,
   "id": "6c240dcb",
   "metadata": {},
   "outputs": [],
   "source": [
    "items, capacity, item_count = read_data(input_data)"
   ]
  },
  {
   "cell_type": "code",
   "execution_count": 578,
   "id": "7ae90b91",
   "metadata": {},
   "outputs": [
    {
     "name": "stdout",
     "output_type": "stream",
     "text": [
      "11 4\n"
     ]
    }
   ],
   "source": [
    "print(capacity, item_count)"
   ]
  },
  {
   "cell_type": "code",
   "execution_count": 579,
   "id": "3b4a7fda",
   "metadata": {},
   "outputs": [],
   "source": [
    "def sort_items(unsorted_item):\n",
    "    \n",
    "    return sorted(items, key=lambda items: (items.value / items.weight, 1/items.weight), reverse=True)   "
   ]
  },
  {
   "cell_type": "code",
   "execution_count": 580,
   "id": "464365de",
   "metadata": {},
   "outputs": [],
   "source": [
    "sorted_items = sort_items(items)"
   ]
  },
  {
   "cell_type": "code",
   "execution_count": 581,
   "id": "5a6fab6d",
   "metadata": {},
   "outputs": [
    {
     "data": {
      "text/plain": [
       "[Item(index=0, value=8, weight=4),\n",
       " Item(index=1, value=10, weight=5),\n",
       " Item(index=2, value=15, weight=8),\n",
       " Item(index=3, value=4, weight=3)]"
      ]
     },
     "execution_count": 581,
     "metadata": {},
     "output_type": "execute_result"
    }
   ],
   "source": [
    "sorted_items"
   ]
  },
  {
   "cell_type": "code",
   "execution_count": 582,
   "id": "6e806916",
   "metadata": {},
   "outputs": [
    {
     "data": {
      "text/plain": [
       "1"
      ]
     },
     "execution_count": 582,
     "metadata": {},
     "output_type": "execute_result"
    }
   ],
   "source": [
    "min(1,2)"
   ]
  },
  {
   "cell_type": "code",
   "execution_count": 583,
   "id": "fd47aa98",
   "metadata": {},
   "outputs": [],
   "source": [
    "def max_value(sorted_items, current_value, capacity):\n",
    "    additional_value = 0\n",
    "    for i in sorted_items:\n",
    "#         print(i.weight)\n",
    "        if capacity >= 0:\n",
    "#             print(capacity)\n",
    "            weight_taken = min(i.weight, capacity)\n",
    "            capacity -= weight_taken\n",
    "#             print(capacity)\n",
    "            additional_value += i.value * weight_taken / i.weight\n",
    "#             print(additional_value)\n",
    "    \n",
    "    return additional_value + current_value"
   ]
  },
  {
   "cell_type": "code",
   "execution_count": 584,
   "id": "c6e61f77",
   "metadata": {},
   "outputs": [],
   "source": [
    "def current_value(sorted_items, current_selection, current_index):\n",
    "    current_value = 0\n",
    "    for i in range(current_index):\n",
    "        current_value += sorted_items[i].value * current_selection[i]\n",
    "    \n",
    "    return current_value"
   ]
  },
  {
   "cell_type": "code",
   "execution_count": 585,
   "id": "44327129",
   "metadata": {},
   "outputs": [
    {
     "data": {
      "text/plain": [
       "18"
      ]
     },
     "execution_count": 585,
     "metadata": {},
     "output_type": "execute_result"
    }
   ],
   "source": [
    "current_value(sorted_items, [1,1,0,1], 2)"
   ]
  },
  {
   "cell_type": "code",
   "execution_count": 572,
   "id": "1a6a8a6a",
   "metadata": {},
   "outputs": [],
   "source": [
    "def dummy_solver(items, current_index, current_value, current_capacity, \n",
    "                 actual_max, current_selection, max_selection):\n",
    "\n",
    "    if current_index < len(items):\n",
    "        item = items[current_index] \n",
    "        if item.weight <= current_capacity:\n",
    "            new_capacity = current_capacity - item.weight\n",
    "            current_selection[current_index] = 1\n",
    "            new_value = current_value + item.value\n",
    "            current_max = max_value(items[current_index+1:], new_value, new_capacity)\n",
    "            if new_value > actual_max:\n",
    "                max_selection = current_selection\n",
    "                actual_max = new_value\n",
    "\n",
    "            if current_max < actual_max:\n",
    "                pass\n",
    "\n",
    "            else:\n",
    "                max_selection = dummy_solver(items, current_index+1, new_value, new_capacity, actual_max, \n",
    "                             current_selection, max_selection)\n",
    "\n",
    "        else:\n",
    "            new_capacity = current_capacity\n",
    "            current_selection[current_index] = 0\n",
    "            new_value = current_value \n",
    "            current_max = max_value(items[current_index+1:], new_value, new_capacity)\n",
    "\n",
    "            if new_value > actual_max:\n",
    "                max_selection = current_selection\n",
    "                actual_max = new_value\n",
    "\n",
    "            if current_max < actual_max:\n",
    "                pass\n",
    "\n",
    "            else:\n",
    "                max_selection = dummy_solver(items, current_index+1, new_value, new_capacity, actual_max, \n",
    "                             current_selection, max_selection)\n",
    "\n",
    "    return max_selection\n"
   ]
  },
  {
   "cell_type": "code",
   "execution_count": 573,
   "id": "9262a1a0",
   "metadata": {},
   "outputs": [],
   "source": [
    "solution = dummy_solver(sorted_items, 0, 0, capacity, 0, [0]*19, [0]*19)"
   ]
  },
  {
   "cell_type": "code",
   "execution_count": 574,
   "id": "1440456b",
   "metadata": {},
   "outputs": [],
   "source": [
    "def final_solution(items, sorted_items, solution):\n",
    "    answer = [0]*len(items)\n",
    "    for i in range(len(solution)):\n",
    "        if solution[i] == 1:\n",
    "            answer[sorted_items[i].index]=1\n",
    "    return answer"
   ]
  },
  {
   "cell_type": "code",
   "execution_count": 575,
   "id": "169d30a4",
   "metadata": {},
   "outputs": [
    {
     "data": {
      "text/plain": [
       "[0, 0, 1, 1, 0, 1, 0, 0, 0, 0, 0, 0, 0, 1, 0, 0, 0, 0, 0]"
      ]
     },
     "execution_count": 575,
     "metadata": {},
     "output_type": "execute_result"
    }
   ],
   "source": [
    "final_solution(items, sorted_items, solution)"
   ]
  },
  {
   "cell_type": "code",
   "execution_count": 486,
   "id": "fae5e7e2",
   "metadata": {},
   "outputs": [],
   "source": [
    "\n",
    "for i in range(len(sorted_items)):\n",
    "    if a[i] == 1:\n",
    "        capacity -= sorted_items[i].weight"
   ]
  },
  {
   "cell_type": "code",
   "execution_count": 413,
   "id": "69753b32",
   "metadata": {},
   "outputs": [
    {
     "ename": "NameError",
     "evalue": "name 'max_selection' is not defined",
     "output_type": "error",
     "traceback": [
      "\u001b[0;31m---------------------------------------------------------------------------\u001b[0m",
      "\u001b[0;31mNameError\u001b[0m                                 Traceback (most recent call last)",
      "Cell \u001b[0;32mIn[413], line 1\u001b[0m\n\u001b[0;32m----> 1\u001b[0m \u001b[38;5;28mprint\u001b[39m(\u001b[43mmax_selection\u001b[49m)\n",
      "\u001b[0;31mNameError\u001b[0m: name 'max_selection' is not defined"
     ]
    }
   ],
   "source": [
    "print(max_selection)"
   ]
  },
  {
   "cell_type": "code",
   "execution_count": 414,
   "id": "03a93e9f",
   "metadata": {},
   "outputs": [
    {
     "data": {
      "text/plain": [
       "1019"
      ]
     },
     "execution_count": 414,
     "metadata": {},
     "output_type": "execute_result"
    }
   ],
   "source": [
    "capacity"
   ]
  },
  {
   "cell_type": "code",
   "execution_count": 351,
   "id": "f782c7e7",
   "metadata": {},
   "outputs": [
    {
     "ename": "NameError",
     "evalue": "name 'actual_' is not defined",
     "output_type": "error",
     "traceback": [
      "\u001b[0;31m---------------------------------------------------------------------------\u001b[0m",
      "\u001b[0;31mNameError\u001b[0m                                 Traceback (most recent call last)",
      "Cell \u001b[0;32mIn[351], line 1\u001b[0m\n\u001b[0;32m----> 1\u001b[0m \u001b[43mactual_\u001b[49m\n",
      "\u001b[0;31mNameError\u001b[0m: name 'actual_' is not defined"
     ]
    }
   ],
   "source": [
    "actual_"
   ]
  },
  {
   "cell_type": "code",
   "execution_count": null,
   "id": "618d0c10",
   "metadata": {},
   "outputs": [],
   "source": []
  },
  {
   "cell_type": "code",
   "execution_count": 267,
   "id": "b84ab077",
   "metadata": {},
   "outputs": [
    {
     "data": {
      "text/plain": [
       "31181"
      ]
     },
     "execution_count": 267,
     "metadata": {},
     "output_type": "execute_result"
    }
   ],
   "source": [
    "capacity"
   ]
  },
  {
   "cell_type": "code",
   "execution_count": 266,
   "id": "40fb4a92",
   "metadata": {},
   "outputs": [
    {
     "data": {
      "text/plain": [
       "[Item(index=18, value=16553, weight=40006),\n",
       " Item(index=14, value=13504, weight=32708),\n",
       " Item(index=13, value=3878, weight=9656),\n",
       " Item(index=3, value=4136, weight=10372),\n",
       " Item(index=2, value=2945, weight=7390),\n",
       " Item(index=7, value=2890, weight=7280),\n",
       " Item(index=0, value=1945, weight=4990),\n",
       " Item(index=15, value=1865, weight=4830),\n",
       " Item(index=12, value=1513, weight=3926),\n",
       " Item(index=17, value=1833, weight=4766),\n",
       " Item(index=5, value=1022, weight=2744),\n",
       " Item(index=8, value=962, weight=2624),\n",
       " Item(index=4, value=1107, weight=3114),\n",
       " Item(index=6, value=1101, weight=3102),\n",
       " Item(index=9, value=1060, weight=3020),\n",
       " Item(index=10, value=805, weight=2310),\n",
       " Item(index=11, value=689, weight=2078),\n",
       " Item(index=16, value=667, weight=2034),\n",
       " Item(index=1, value=321, weight=1142)]"
      ]
     },
     "execution_count": 266,
     "metadata": {},
     "output_type": "execute_result"
    }
   ],
   "source": [
    "items"
   ]
  },
  {
   "cell_type": "code",
   "execution_count": null,
   "id": "a961d731",
   "metadata": {},
   "outputs": [],
   "source": [
    "def solver(items, take_item, t_max, a_max, c_index, c_capacity, current_array, best_array):\n",
    "#items = array of items under consideration\n",
    "#t_max = in the current node, what is the upper bound. If upperbound is less than the best achieved so far, exit the node\n",
    "#a_max = best weight achieved so far\n",
    "#c_index = the current node under consideration\n",
    "#current_array = candidate array\n",
    "#best_array = array with the highest  weight so far\n",
    "    \n",
    "    t_max = max_value(items)\n",
    "    current_item_weight = items[c_index].weight\n",
    "    \n",
    "    \n",
    "    if t_max < a_max:\n",
    "        return\n",
    "    \n",
    "    elif (c_capacity >= current_item_weight):\n",
    "        item_index[c_index] = 1\n",
    "        c_capacity -= current_item_weight\n",
    "        solver(items, t_max)\n",
    "        \n",
    "    elif (t_max - items[c_index].weight) > a_max:\n",
    "        item_index[c_index]=0\n",
    "        solver(items, t_max - items[c_index].weight, )\n",
    "    "
   ]
  },
  {
   "cell_type": "code",
   "execution_count": 203,
   "id": "d1264ae4",
   "metadata": {},
   "outputs": [
    {
     "data": {
      "text/plain": [
       "22"
      ]
     },
     "execution_count": 203,
     "metadata": {},
     "output_type": "execute_result"
    }
   ],
   "source": [
    "current_value(sorted_items, [1,1,0,1], 4)"
   ]
  },
  {
   "cell_type": "code",
   "execution_count": null,
   "id": "461e9cdd",
   "metadata": {},
   "outputs": [],
   "source": [
    "\n",
    "def dummy_fn(items, current_index, capacity):\n",
    "    "
   ]
  },
  {
   "cell_type": "code",
   "execution_count": 209,
   "id": "f651cd61",
   "metadata": {},
   "outputs": [
    {
     "data": {
      "text/plain": [
       "37"
      ]
     },
     "execution_count": 209,
     "metadata": {},
     "output_type": "execute_result"
    }
   ],
   "source": [
    "max_value(sorted_items[2:], current_value(sorted_items, [1,1,0,1], 2), 11)"
   ]
  },
  {
   "cell_type": "code",
   "execution_count": 208,
   "id": "939f51a4",
   "metadata": {},
   "outputs": [
    {
     "data": {
      "text/plain": [
       "[Item(index=0, value=8, weight=4),\n",
       " Item(index=1, value=10, weight=5),\n",
       " Item(index=2, value=15, weight=8),\n",
       " Item(index=3, value=4, weight=3)]"
      ]
     },
     "execution_count": 208,
     "metadata": {},
     "output_type": "execute_result"
    }
   ],
   "source": [
    "sorted_items"
   ]
  },
  {
   "cell_type": "code",
   "execution_count": 44,
   "id": "f5ef8761",
   "metadata": {},
   "outputs": [],
   "source": [
    "def test_function(i):\n",
    "    if i == 1:\n",
    "        return\n",
    "    if True:\n",
    "        print(i)\n",
    "        test_function(i-1)\n",
    "        pass\n",
    "    if True:\n",
    "        print(4)\n",
    "        \n",
    "    return"
   ]
  },
  {
   "cell_type": "code",
   "execution_count": 45,
   "id": "3894b388",
   "metadata": {},
   "outputs": [
    {
     "name": "stdout",
     "output_type": "stream",
     "text": [
      "2\n",
      "4\n"
     ]
    }
   ],
   "source": [
    "test_function(2)"
   ]
  },
  {
   "cell_type": "code",
   "execution_count": null,
   "id": "d0fce160",
   "metadata": {},
   "outputs": [],
   "source": []
  },
  {
   "cell_type": "code",
   "execution_count": null,
   "id": "f2214c50",
   "metadata": {},
   "outputs": [],
   "source": []
  }
 ],
 "metadata": {
  "kernelspec": {
   "display_name": "Python 3 (ipykernel)",
   "language": "python",
   "name": "python3"
  },
  "language_info": {
   "codemirror_mode": {
    "name": "ipython",
    "version": 3
   },
   "file_extension": ".py",
   "mimetype": "text/x-python",
   "name": "python",
   "nbconvert_exporter": "python",
   "pygments_lexer": "ipython3",
   "version": "3.10.9"
  }
 },
 "nbformat": 4,
 "nbformat_minor": 5
}
