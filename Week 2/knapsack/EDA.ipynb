{
 "cells": [
  {
   "cell_type": "code",
   "execution_count": 2,
   "id": "bd32ac41",
   "metadata": {},
   "outputs": [],
   "source": [
    "from collections import namedtuple\n",
    "Item = namedtuple(\"Item\", ['index', 'value', 'weight'])"
   ]
  },
  {
   "cell_type": "code",
   "execution_count": 127,
   "id": "6b83a453",
   "metadata": {},
   "outputs": [],
   "source": [
    "def read_data(input_data):\n",
    "    # Modify this code to run your optimization algorithm\n",
    "\n",
    "    # parse the input\n",
    "    lines = input_data.split('\\n')\n",
    "\n",
    "    firstLine = lines[0].split()\n",
    "    item_count = int(firstLine[0])\n",
    "    capacity = int(firstLine[1])\n",
    "    \n",
    "    items = []\n",
    "\n",
    "    for i in range(1, item_count+1):\n",
    "        line = lines[i]\n",
    "        parts = line.split()\n",
    "        items.append(Item(i-1, int(parts[0]), int(parts[1])))\n",
    "        \n",
    "    return items, capacity, item_count"
   ]
  },
  {
   "cell_type": "code",
   "execution_count": 128,
   "id": "62c835e4",
   "metadata": {},
   "outputs": [],
   "source": [
    "with open('data/ks_4_0', 'r') as input_data_file:\n",
    "            input_data = input_data_file.read()        "
   ]
  },
  {
   "cell_type": "code",
   "execution_count": 129,
   "id": "68594bd2",
   "metadata": {},
   "outputs": [],
   "source": [
    "items, capacity, item_count = read_data(input_data)"
   ]
  },
  {
   "cell_type": "code",
   "execution_count": 130,
   "id": "f5add566",
   "metadata": {},
   "outputs": [
    {
     "data": {
      "text/plain": [
       "[Item(index=0, value=8, weight=4),\n",
       " Item(index=1, value=10, weight=5),\n",
       " Item(index=2, value=15, weight=8),\n",
       " Item(index=3, value=4, weight=3)]"
      ]
     },
     "execution_count": 130,
     "metadata": {},
     "output_type": "execute_result"
    }
   ],
   "source": [
    "items"
   ]
  },
  {
   "cell_type": "code",
   "execution_count": 159,
   "id": "67386535",
   "metadata": {},
   "outputs": [],
   "source": [
    "def sort_items(unsorted_item):\n",
    "    \n",
    "    return sorted(items, key=lambda items: (items.value / items.weight, 1/items.weight), reverse=True)   "
   ]
  },
  {
   "cell_type": "code",
   "execution_count": 160,
   "id": "79dbae06",
   "metadata": {},
   "outputs": [],
   "source": [
    "sorted_items = sort_items(items)"
   ]
  },
  {
   "cell_type": "code",
   "execution_count": 174,
   "id": "4c4a8698",
   "metadata": {},
   "outputs": [],
   "source": [
    "def max_weight(sorted_items, current_value, capacity):\n",
    "    additional_value = 0\n",
    "    for i in sorted_items:\n",
    "        if capacity >= i.weight:\n",
    "            capacity -= i.weight\n",
    "            additional_value += i.value\n",
    "        else:\n",
    "            break\n",
    "    \n",
    "    return additional_value + current_value"
   ]
  },
  {
   "cell_type": "code",
   "execution_count": 175,
   "id": "820c3c22",
   "metadata": {},
   "outputs": [
    {
     "data": {
      "text/plain": [
       "[Item(index=0, value=8, weight=4),\n",
       " Item(index=1, value=10, weight=5),\n",
       " Item(index=2, value=15, weight=8),\n",
       " Item(index=3, value=4, weight=3)]"
      ]
     },
     "execution_count": 175,
     "metadata": {},
     "output_type": "execute_result"
    }
   ],
   "source": [
    "sorted_items"
   ]
  },
  {
   "cell_type": "code",
   "execution_count": 176,
   "id": "f6eaef4e",
   "metadata": {},
   "outputs": [
    {
     "name": "stdout",
     "output_type": "stream",
     "text": [
      "8\n",
      "18\n"
     ]
    },
    {
     "data": {
      "text/plain": [
       "18"
      ]
     },
     "execution_count": 176,
     "metadata": {},
     "output_type": "execute_result"
    }
   ],
   "source": [
    "max_weight(sorted_items, 0, 9)"
   ]
  },
  {
   "cell_type": "code",
   "execution_count": 170,
   "id": "70159162",
   "metadata": {},
   "outputs": [
    {
     "data": {
      "text/plain": [
       "[Item(index=0, value=8, weight=4),\n",
       " Item(index=1, value=10, weight=5),\n",
       " Item(index=2, value=15, weight=8),\n",
       " Item(index=3, value=4, weight=3)]"
      ]
     },
     "execution_count": 170,
     "metadata": {},
     "output_type": "execute_result"
    }
   ],
   "source": [
    "sorted_items"
   ]
  },
  {
   "cell_type": "code",
   "execution_count": 93,
   "id": "9f9694d3",
   "metadata": {},
   "outputs": [
    {
     "data": {
      "text/plain": [
       "11"
      ]
     },
     "execution_count": 93,
     "metadata": {},
     "output_type": "execute_result"
    }
   ],
   "source": [
    "capacity"
   ]
  },
  {
   "cell_type": "code",
   "execution_count": 20,
   "id": "f8f82c77",
   "metadata": {},
   "outputs": [
    {
     "data": {
      "text/plain": [
       "4"
      ]
     },
     "execution_count": 20,
     "metadata": {},
     "output_type": "execute_result"
    }
   ],
   "source": [
    "items[0].weight"
   ]
  },
  {
   "cell_type": "code",
   "execution_count": null,
   "id": "85b735cf",
   "metadata": {},
   "outputs": [],
   "source": [
    "and"
   ]
  },
  {
   "cell_type": "code",
   "execution_count": 44,
   "id": "2c9980dc",
   "metadata": {},
   "outputs": [],
   "source": [
    "def test_function(i):\n",
    "    if i == 1:\n",
    "        return\n",
    "    if True:\n",
    "        print(i)\n",
    "        test_function(i-1)\n",
    "        pass\n",
    "    if True:\n",
    "        print(4)\n",
    "        \n",
    "    return"
   ]
  },
  {
   "cell_type": "code",
   "execution_count": 45,
   "id": "c9f28255",
   "metadata": {},
   "outputs": [
    {
     "name": "stdout",
     "output_type": "stream",
     "text": [
      "2\n",
      "4\n"
     ]
    }
   ],
   "source": [
    "test_function(2)"
   ]
  },
  {
   "cell_type": "code",
   "execution_count": null,
   "id": "e10b0e2f",
   "metadata": {},
   "outputs": [],
   "source": []
  },
  {
   "cell_type": "code",
   "execution_count": null,
   "id": "ac94a734",
   "metadata": {},
   "outputs": [],
   "source": [
    "def solver(items, t_max, a_max, c_index, c_capacity, current_array, best_array):\n",
    "#items = array of items under consideration\n",
    "#t_max = in the current node, what is the upper bound. If upperbound is less than the best achieved so far, exit the node\n",
    "#a_max = best weight achieved so far\n",
    "#c_index = the current node under consideration\n",
    "#current_array = candidate array\n",
    "#best_array = array with the highest  weight so far\n",
    "\n",
    "    t_max = \n",
    "    current_item_weight = items[c_index].weight\n",
    "    \n",
    "    \n",
    "    if t_max < a_max:\n",
    "        return\n",
    "    \n",
    "    elif (c_capacity >= current_item_weight):\n",
    "        item_index[c_index] = 1\n",
    "        c_capacity -= current_item_weight\n",
    "        solver(items, t_max)\n",
    "        \n",
    "    elif (t_max - items[c_index].weight) > a_max:\n",
    "        item_index[c_index]=0\n",
    "        solver(items, t_max - items[c_index].weight, )\n",
    "    "
   ]
  }
 ],
 "metadata": {
  "kernelspec": {
   "display_name": "Python 3 (ipykernel)",
   "language": "python",
   "name": "python3"
  },
  "language_info": {
   "codemirror_mode": {
    "name": "ipython",
    "version": 3
   },
   "file_extension": ".py",
   "mimetype": "text/x-python",
   "name": "python",
   "nbconvert_exporter": "python",
   "pygments_lexer": "ipython3",
   "version": "3.10.9"
  }
 },
 "nbformat": 4,
 "nbformat_minor": 5
}
