{
 "cells": [
  {
   "cell_type": "code",
   "execution_count": 2,
   "id": "c20377ad",
   "metadata": {},
   "outputs": [],
   "source": [
    "from collections import namedtuple\n",
    "Item = namedtuple(\"Item\", ['index', 'value', 'weight'])"
   ]
  },
  {
   "cell_type": "code",
   "execution_count": 127,
   "id": "96f988c6",
   "metadata": {},
   "outputs": [],
   "source": [
    "def read_data(input_data):\n",
    "    # Modify this code to run your optimization algorithm\n",
    "\n",
    "    # parse the input\n",
    "    lines = input_data.split('\\n')\n",
    "\n",
    "    firstLine = lines[0].split()\n",
    "    item_count = int(firstLine[0])\n",
    "    capacity = int(firstLine[1])\n",
    "    \n",
    "    items = []\n",
    "\n",
    "    for i in range(1, item_count+1):\n",
    "        line = lines[i]\n",
    "        parts = line.split()\n",
    "        items.append(Item(i-1, int(parts[0]), int(parts[1])))\n",
    "        \n",
    "    return items, capacity, item_count"
   ]
  },
  {
   "cell_type": "code",
   "execution_count": 128,
   "id": "81a4f055",
   "metadata": {},
   "outputs": [],
   "source": [
    "with open('data/ks_4_0', 'r') as input_data_file:\n",
    "            input_data = input_data_file.read()        "
   ]
  },
  {
   "cell_type": "code",
   "execution_count": 129,
   "id": "d606f5f5",
   "metadata": {},
   "outputs": [],
   "source": [
    "items, capacity, item_count = read_data(input_data)"
   ]
  },
  {
   "cell_type": "code",
   "execution_count": 181,
   "id": "531ebe8b",
   "metadata": {},
   "outputs": [
    {
     "name": "stdout",
     "output_type": "stream",
     "text": [
      "[Item(index=0, value=8, weight=4), Item(index=1, value=10, weight=5), Item(index=2, value=15, weight=8), Item(index=3, value=4, weight=3)] 11 4\n"
     ]
    }
   ],
   "source": [
    "print(items, capacity, item_count)"
   ]
  },
  {
   "cell_type": "code",
   "execution_count": 182,
   "id": "78bb5809",
   "metadata": {},
   "outputs": [],
   "source": [
    "def sort_items(unsorted_item):\n",
    "    \n",
    "    return sorted(items, key=lambda items: (items.value / items.weight, 1/items.weight), reverse=True)   "
   ]
  },
  {
   "cell_type": "code",
   "execution_count": 183,
   "id": "ef778a14",
   "metadata": {},
   "outputs": [],
   "source": [
    "sorted_items = sort_items(items)"
   ]
  },
  {
   "cell_type": "code",
   "execution_count": 215,
   "id": "dc50f645",
   "metadata": {},
   "outputs": [],
   "source": [
    "def max_value(sorted_items, current_value, capacity):\n",
    "    additional_value = 0\n",
    "    for i in sorted_items:\n",
    "        if capacity >= i.weight:\n",
    "            capacity -= i.weight\n",
    "            additional_value += i.value\n",
    "        else:\n",
    "            break\n",
    "    \n",
    "    return additional_value + current_value"
   ]
  },
  {
   "cell_type": "code",
   "execution_count": 186,
   "id": "54eb6b08",
   "metadata": {},
   "outputs": [
    {
     "data": {
      "text/plain": [
       "18"
      ]
     },
     "execution_count": 186,
     "metadata": {},
     "output_type": "execute_result"
    }
   ],
   "source": [
    "max_value(sorted_items, 0, capacity)"
   ]
  },
  {
   "cell_type": "code",
   "execution_count": 193,
   "id": "47d1ea48",
   "metadata": {},
   "outputs": [],
   "source": [
    "def current_value(sorted_items, current_selection, current_index):\n",
    "    current_value = 0\n",
    "    for i in range(current_index):\n",
    "        current_value += sorted_items[i].value * current_selection[i]\n",
    "    \n",
    "    return current_value"
   ]
  },
  {
   "cell_type": "code",
   "execution_count": 205,
   "id": "4ab3fa93",
   "metadata": {},
   "outputs": [
    {
     "data": {
      "text/plain": [
       "18"
      ]
     },
     "execution_count": 205,
     "metadata": {},
     "output_type": "execute_result"
    }
   ],
   "source": [
    "current_value(sorted_items, [1,1,0,1], 2)"
   ]
  },
  {
   "cell_type": "code",
   "execution_count": 210,
   "id": "c1ac9f7a",
   "metadata": {},
   "outputs": [
    {
     "data": {
      "text/plain": [
       "[Item(index=0, value=8, weight=4),\n",
       " Item(index=1, value=10, weight=5),\n",
       " Item(index=2, value=15, weight=8),\n",
       " Item(index=3, value=4, weight=3)]"
      ]
     },
     "execution_count": 210,
     "metadata": {},
     "output_type": "execute_result"
    }
   ],
   "source": [
    "items"
   ]
  },
  {
   "cell_type": "code",
   "execution_count": 252,
   "id": "5b7e67a5",
   "metadata": {},
   "outputs": [],
   "source": [
    "def dummy_solver(items, current_index, current_value, current_capacity, \n",
    "                 actual_max, current_selection, max_selection):\n",
    "\n",
    "    if current_index < len(items):\n",
    "#         print(current_index)\n",
    "        item = items[current_index] \n",
    "\n",
    "        if item.weight <= current_capacity:\n",
    "\n",
    "            new_capacity = current_capacity - item.weight\n",
    "            current_selection[current_index] = 1\n",
    "            new_value = current_value + item.value\n",
    "            current_max = max_value(items[current_index+1:], new_value, new_capacity)\n",
    "\n",
    "            if new_value > actual_max:\n",
    "                max_selection = current_selection\n",
    "                actual_max = new_value\n",
    "\n",
    "            if current_max < actual_max:\n",
    "                pass\n",
    "\n",
    "            else:\n",
    "                dummy_solver(items, current_index+1, new_value, new_capacity, actual_max, \n",
    "                             current_selection, max_selection)\n",
    "\n",
    "        else:\n",
    "            new_capacity = current_capacity\n",
    "            current_selection[current_index] = 0\n",
    "            new_value = current_value \n",
    "            current_max = max_value(items[current_index+1:], new_value, new_capacity)\n",
    "\n",
    "            if new_value > actual_max:\n",
    "                max_selection = current_selection\n",
    "                actual_max = new_value\n",
    "\n",
    "            if current_max < actual_max:\n",
    "                pass\n",
    "\n",
    "            else:\n",
    "                dummy_solver(items, current_index+1, new_value, new_capacity, actual_max, \n",
    "                             current_selection, max_selection)\n",
    "        return(max_selection)\n",
    "\n",
    "#         print(current_selection)\n",
    "#         print(current_max, current_value, new_capacity)"
   ]
  },
  {
   "cell_type": "code",
   "execution_count": 251,
   "id": "a407b046",
   "metadata": {},
   "outputs": [
    {
     "data": {
      "text/plain": [
       "[0, 0, 0, 0]"
      ]
     },
     "execution_count": 251,
     "metadata": {},
     "output_type": "execute_result"
    }
   ],
   "source": [
    "dummy_solver(items, 0, 0, 0, 0, [0, 0, 0, 0], [0, 0, 0, 0])"
   ]
  },
  {
   "cell_type": "code",
   "execution_count": 224,
   "id": "6890e060",
   "metadata": {},
   "outputs": [
    {
     "name": "stdout",
     "output_type": "stream",
     "text": [
      "[1, 0, 0, 0]\n"
     ]
    }
   ],
   "source": [
    "dummy_solver(items, 0, 0, 11, 1, 12, [0,0,0,0])"
   ]
  },
  {
   "cell_type": "code",
   "execution_count": null,
   "id": "fc179338",
   "metadata": {},
   "outputs": [],
   "source": [
    "def solver(items, take_item, t_max, a_max, c_index, c_capacity, current_array, best_array):\n",
    "#items = array of items under consideration\n",
    "#t_max = in the current node, what is the upper bound. If upperbound is less than the best achieved so far, exit the node\n",
    "#a_max = best weight achieved so far\n",
    "#c_index = the current node under consideration\n",
    "#current_array = candidate array\n",
    "#best_array = array with the highest  weight so far\n",
    "    \n",
    "    t_max = max_value(items)\n",
    "    current_item_weight = items[c_index].weight\n",
    "    \n",
    "    \n",
    "    if t_max < a_max:\n",
    "        return\n",
    "    \n",
    "    elif (c_capacity >= current_item_weight):\n",
    "        item_index[c_index] = 1\n",
    "        c_capacity -= current_item_weight\n",
    "        solver(items, t_max)\n",
    "        \n",
    "    elif (t_max - items[c_index].weight) > a_max:\n",
    "        item_index[c_index]=0\n",
    "        solver(items, t_max - items[c_index].weight, )\n",
    "    "
   ]
  },
  {
   "cell_type": "code",
   "execution_count": 203,
   "id": "243e372c",
   "metadata": {},
   "outputs": [
    {
     "data": {
      "text/plain": [
       "22"
      ]
     },
     "execution_count": 203,
     "metadata": {},
     "output_type": "execute_result"
    }
   ],
   "source": [
    "current_value(sorted_items, [1,1,0,1], 4)"
   ]
  },
  {
   "cell_type": "code",
   "execution_count": null,
   "id": "4db5e1e0",
   "metadata": {},
   "outputs": [],
   "source": [
    "\n",
    "def dummy_fn(items, current_index, capacity):\n",
    "    "
   ]
  },
  {
   "cell_type": "code",
   "execution_count": 209,
   "id": "34ec8ab9",
   "metadata": {},
   "outputs": [
    {
     "data": {
      "text/plain": [
       "37"
      ]
     },
     "execution_count": 209,
     "metadata": {},
     "output_type": "execute_result"
    }
   ],
   "source": [
    "max_value(sorted_items[2:], current_value(sorted_items, [1,1,0,1], 2), 11)"
   ]
  },
  {
   "cell_type": "code",
   "execution_count": 208,
   "id": "33c38ff9",
   "metadata": {},
   "outputs": [
    {
     "data": {
      "text/plain": [
       "[Item(index=0, value=8, weight=4),\n",
       " Item(index=1, value=10, weight=5),\n",
       " Item(index=2, value=15, weight=8),\n",
       " Item(index=3, value=4, weight=3)]"
      ]
     },
     "execution_count": 208,
     "metadata": {},
     "output_type": "execute_result"
    }
   ],
   "source": [
    "sorted_items"
   ]
  },
  {
   "cell_type": "code",
   "execution_count": 44,
   "id": "60d2904f",
   "metadata": {},
   "outputs": [],
   "source": [
    "def test_function(i):\n",
    "    if i == 1:\n",
    "        return\n",
    "    if True:\n",
    "        print(i)\n",
    "        test_function(i-1)\n",
    "        pass\n",
    "    if True:\n",
    "        print(4)\n",
    "        \n",
    "    return"
   ]
  },
  {
   "cell_type": "code",
   "execution_count": 45,
   "id": "f8a0507b",
   "metadata": {},
   "outputs": [
    {
     "name": "stdout",
     "output_type": "stream",
     "text": [
      "2\n",
      "4\n"
     ]
    }
   ],
   "source": [
    "test_function(2)"
   ]
  },
  {
   "cell_type": "code",
   "execution_count": null,
   "id": "4f528419",
   "metadata": {},
   "outputs": [],
   "source": []
  },
  {
   "cell_type": "code",
   "execution_count": null,
   "id": "66984498",
   "metadata": {},
   "outputs": [],
   "source": []
  }
 ],
 "metadata": {
  "kernelspec": {
   "display_name": "Python 3 (ipykernel)",
   "language": "python",
   "name": "python3"
  },
  "language_info": {
   "codemirror_mode": {
    "name": "ipython",
    "version": 3
   },
   "file_extension": ".py",
   "mimetype": "text/x-python",
   "name": "python",
   "nbconvert_exporter": "python",
   "pygments_lexer": "ipython3",
   "version": "3.10.9"
  }
 },
 "nbformat": 4,
 "nbformat_minor": 5
}
