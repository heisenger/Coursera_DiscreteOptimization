{
 "cells": [
  {
   "cell_type": "code",
   "execution_count": 2,
   "id": "fb373cf3",
   "metadata": {},
   "outputs": [],
   "source": [
    "from collections import namedtuple\n",
    "Item = namedtuple(\"Item\", ['index', 'value', 'weight'])"
   ]
  },
  {
   "cell_type": "code",
   "execution_count": 50,
   "id": "a53117d6",
   "metadata": {},
   "outputs": [],
   "source": [
    "def read_data(input_data):\n",
    "    # Modify this code to run your optimization algorithm\n",
    "\n",
    "    # parse the input\n",
    "    lines = input_data.split('\\n')\n",
    "\n",
    "    firstLine = lines[0].split()\n",
    "    item_count = int(firstLine[0])\n",
    "    capacity = int(firstLine[1])\n",
    "    \n",
    "    items = []\n",
    "\n",
    "    for i in range(1, item_count+1):\n",
    "        line = lines[i]\n",
    "        parts = line.split()\n",
    "        items.append(Item(i-1, int(parts[0]), int(parts[1])))\n",
    "        \n",
    "    return items, capacity, item_count"
   ]
  },
  {
   "cell_type": "code",
   "execution_count": 51,
   "id": "4b6e9d41",
   "metadata": {},
   "outputs": [],
   "source": [
    "with open('data/ks_4_0', 'r') as input_data_file:\n",
    "            input_data = input_data_file.read()\n",
    "\n",
    "        "
   ]
  },
  {
   "cell_type": "code",
   "execution_count": 54,
   "id": "672d8897",
   "metadata": {},
   "outputs": [],
   "source": [
    "items, capacity, item_count = read_data(input_data)"
   ]
  },
  {
   "cell_type": "code",
   "execution_count": 55,
   "id": "5d0590bb",
   "metadata": {},
   "outputs": [
    {
     "data": {
      "text/plain": [
       "[Item(index=0, value=8, weight=4),\n",
       " Item(index=1, value=10, weight=5),\n",
       " Item(index=2, value=15, weight=8),\n",
       " Item(index=3, value=4, weight=3)]"
      ]
     },
     "execution_count": 55,
     "metadata": {},
     "output_type": "execute_result"
    }
   ],
   "source": [
    "items"
   ]
  },
  {
   "cell_type": "code",
   "execution_count": 56,
   "id": "734fc6fc",
   "metadata": {},
   "outputs": [
    {
     "data": {
      "text/plain": [
       "11"
      ]
     },
     "execution_count": 56,
     "metadata": {},
     "output_type": "execute_result"
    }
   ],
   "source": [
    "capacity"
   ]
  },
  {
   "cell_type": "code",
   "execution_count": 57,
   "id": "93ee91d9",
   "metadata": {},
   "outputs": [
    {
     "data": {
      "text/plain": [
       "4"
      ]
     },
     "execution_count": 57,
     "metadata": {},
     "output_type": "execute_result"
    }
   ],
   "source": [
    "item_count"
   ]
  },
  {
   "cell_type": "code",
   "execution_count": 69,
   "id": "f4a503e7",
   "metadata": {},
   "outputs": [
    {
     "name": "stdout",
     "output_type": "stream",
     "text": [
      "4\n",
      "5\n",
      "8\n",
      "3\n"
     ]
    }
   ],
   "source": [
    "for i in items:\n",
    "    print(i.weight)"
   ]
  },
  {
   "cell_type": "code",
   "execution_count": 70,
   "id": "2dfc83a4",
   "metadata": {},
   "outputs": [],
   "source": [
    "weight_index = []\n",
    "for i in items:\n",
    "    weight_index.append(i.weight)"
   ]
  },
  {
   "cell_type": "code",
   "execution_count": 74,
   "id": "4ce591f3",
   "metadata": {},
   "outputs": [
    {
     "data": {
      "text/plain": [
       "[4, 5, 8, 3]"
      ]
     },
     "execution_count": 74,
     "metadata": {},
     "output_type": "execute_result"
    }
   ],
   "source": [
    "weight_index"
   ]
  },
  {
   "cell_type": "code",
   "execution_count": 77,
   "id": "03203ffb",
   "metadata": {},
   "outputs": [],
   "source": [
    "sort_vector = sorted(range(len(weight_index)), key=weight_index.__getitem__)"
   ]
  },
  {
   "cell_type": "code",
   "execution_count": null,
   "id": "ef65acfd",
   "metadata": {},
   "outputs": [],
   "source": []
  },
  {
   "cell_type": "code",
   "execution_count": 78,
   "id": "0a653a8e",
   "metadata": {},
   "outputs": [
    {
     "ename": "TypeError",
     "evalue": "list indices must be integers or slices, not list",
     "output_type": "error",
     "traceback": [
      "\u001b[0;31m---------------------------------------------------------------------------\u001b[0m",
      "\u001b[0;31mTypeError\u001b[0m                                 Traceback (most recent call last)",
      "Cell \u001b[0;32mIn[78], line 1\u001b[0m\n\u001b[0;32m----> 1\u001b[0m \u001b[43mitems\u001b[49m\u001b[43m[\u001b[49m\u001b[43msort_vector\u001b[49m\u001b[43m]\u001b[49m\n",
      "\u001b[0;31mTypeError\u001b[0m: list indices must be integers or slices, not list"
     ]
    }
   ],
   "source": [
    "items[sort_vector]"
   ]
  },
  {
   "cell_type": "code",
   "execution_count": 64,
   "id": "86a03461",
   "metadata": {},
   "outputs": [
    {
     "ename": "AttributeError",
     "evalue": "'list' object has no attribute 'weight'",
     "output_type": "error",
     "traceback": [
      "\u001b[0;31m---------------------------------------------------------------------------\u001b[0m",
      "\u001b[0;31mAttributeError\u001b[0m                            Traceback (most recent call last)",
      "Cell \u001b[0;32mIn[64], line 1\u001b[0m\n\u001b[0;32m----> 1\u001b[0m \u001b[38;5;28msorted\u001b[39m(\u001b[38;5;28mlen\u001b[39m(items), key\u001b[38;5;241m=\u001b[39m\u001b[43mitems\u001b[49m\u001b[38;5;241;43m.\u001b[39;49m\u001b[43mweight\u001b[49m)\n",
      "\u001b[0;31mAttributeError\u001b[0m: 'list' object has no attribute 'weight'"
     ]
    }
   ],
   "source": [
    "sorted(len(items), key=items.weight)"
   ]
  },
  {
   "cell_type": "code",
   "execution_count": null,
   "id": "237842ea",
   "metadata": {},
   "outputs": [],
   "source": [
    "def max_weight(items, current_weight, capacity):\n",
    "    "
   ]
  },
  {
   "cell_type": "code",
   "execution_count": 20,
   "id": "5a35b0ff",
   "metadata": {},
   "outputs": [
    {
     "data": {
      "text/plain": [
       "4"
      ]
     },
     "execution_count": 20,
     "metadata": {},
     "output_type": "execute_result"
    }
   ],
   "source": [
    "items[0].weight"
   ]
  },
  {
   "cell_type": "code",
   "execution_count": null,
   "id": "0ba877c8",
   "metadata": {},
   "outputs": [],
   "source": [
    "and"
   ]
  },
  {
   "cell_type": "code",
   "execution_count": 44,
   "id": "d60d6ebd",
   "metadata": {},
   "outputs": [],
   "source": [
    "def test_function(i):\n",
    "    if i == 1:\n",
    "        return\n",
    "    if True:\n",
    "        print(i)\n",
    "        test_function(i-1)\n",
    "        pass\n",
    "    if True:\n",
    "        print(4)\n",
    "        \n",
    "    return"
   ]
  },
  {
   "cell_type": "code",
   "execution_count": 45,
   "id": "c8bb58b8",
   "metadata": {},
   "outputs": [
    {
     "name": "stdout",
     "output_type": "stream",
     "text": [
      "2\n",
      "4\n"
     ]
    }
   ],
   "source": [
    "test_function(2)"
   ]
  },
  {
   "cell_type": "code",
   "execution_count": null,
   "id": "94a9d908",
   "metadata": {},
   "outputs": [],
   "source": []
  },
  {
   "cell_type": "code",
   "execution_count": null,
   "id": "6217ccfa",
   "metadata": {},
   "outputs": [],
   "source": [
    "def solver(items, t_max, a_max, c_index, c_capacity, current_array, best_array):\n",
    "#items = array of items under consideration\n",
    "#t_max = in the current node, what is the upper bound. If upperbound is less than the best achieved so far, exit the node\n",
    "#a_max = best weight achieved so far\n",
    "#c_index = the current node under consideration\n",
    "#current_array = candidate array\n",
    "#best_array = array with the highest  weight so far\n",
    "\n",
    "    t_max = \n",
    "    current_item_weight = items[c_index].weight\n",
    "    \n",
    "    \n",
    "    if t_max < a_max:\n",
    "        return\n",
    "    \n",
    "    elif (c_capacity >= current_item_weight):\n",
    "        item_index[c_index] = 1\n",
    "        c_capacity -= current_item_weight\n",
    "        solver(items, t_max)\n",
    "        \n",
    "    elif (t_max - items[c_index].weight) > a_max:\n",
    "        item_index[c_index]=0\n",
    "        solver(items, t_max - items[c_index].weight, )\n",
    "    "
   ]
  }
 ],
 "metadata": {
  "kernelspec": {
   "display_name": "Python 3 (ipykernel)",
   "language": "python",
   "name": "python3"
  },
  "language_info": {
   "codemirror_mode": {
    "name": "ipython",
    "version": 3
   },
   "file_extension": ".py",
   "mimetype": "text/x-python",
   "name": "python",
   "nbconvert_exporter": "python",
   "pygments_lexer": "ipython3",
   "version": "3.10.9"
  }
 },
 "nbformat": 4,
 "nbformat_minor": 5
}
